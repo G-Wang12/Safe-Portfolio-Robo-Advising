{
 "cells": [
  {
   "cell_type": "code",
   "execution_count": 32,
   "metadata": {},
   "outputs": [],
   "source": [
    "from IPython.display import display, Math, Latex\n",
    "\n",
    "import pandas as pd\n",
    "import numpy as np\n",
    "import numpy_financial as npf\n",
    "import yfinance as yf\n",
    "import matplotlib.pyplot as plt\n",
    "from datetime import datetime\n",
    "import random"
   ]
  },
  {
   "cell_type": "markdown",
   "metadata": {},
   "source": [
    "## Group Assignment\n",
    "### Team Number: 10\n",
    "### Team Member Names: Evan, Harry, Gordon \n",
    "### Team Strategy Chosen: Safe "
   ]
  },
  {
   "cell_type": "code",
   "execution_count": 33,
   "metadata": {
    "scrolled": true
   },
   "outputs": [],
   "source": [
    "def get_average__monthly_volume(stock_volume):\n",
    "    # # get the ticker\n",
    "    # ticker = yf.Ticker(ticker_symbol)\n",
    "    # # get the stock data\n",
    "    # stock_data = ticker.history(start='2023-01-01', end='2023-10-31')\n",
    "\n",
    "    # # Resample data to monthly frequency and calculate average volume\n",
    "    # stock_volume = stock_data['Volume']\n",
    "    # Resample data to monthly frequency and calculate the number of trading days per month\n",
    "    trading_days_per_month = stock_volume.resample('M').count()\n",
    "\n",
    "    # Filter out months with less than 18 trading days\n",
    "    valid_months = trading_days_per_month[trading_days_per_month >= 18]\n",
    "\n",
    "    # Filter the stock data for the valid months\n",
    "    stock_volume = stock_volume[stock_volume.index.month.isin(valid_months.index.month)]\n",
    "\n",
    "    # return the result\n",
    "    return stock_volume.sum()/len(valid_months)"
   ]
  },
  {
   "cell_type": "code",
   "execution_count": 34,
   "metadata": {},
   "outputs": [
    {
     "name": "stderr",
     "output_type": "stream",
     "text": [
      "AGN: No timezone found, symbol may be delisted\n"
     ]
    },
    {
     "name": "stdout",
     "output_type": "stream",
     "text": [
      "not a ticker\n"
     ]
    },
    {
     "name": "stderr",
     "output_type": "stream",
     "text": [
      "CELG: No timezone found, symbol may be delisted\n"
     ]
    },
    {
     "name": "stdout",
     "output_type": "stream",
     "text": [
      "not a ticker\n"
     ]
    },
    {
     "name": "stderr",
     "output_type": "stream",
     "text": [
      "MON: No timezone found, symbol may be delisted\n"
     ]
    },
    {
     "name": "stdout",
     "output_type": "stream",
     "text": [
      "not a ticker\n"
     ]
    },
    {
     "name": "stderr",
     "output_type": "stream",
     "text": [
      "RTN: No timezone found, symbol may be delisted\n"
     ]
    },
    {
     "name": "stdout",
     "output_type": "stream",
     "text": [
      "not a ticker\n",
      "['AAPL', 'ABBV', 'ABT', 'ACN', 'AIG', 'AMZN', 'AXP', 'BA', 'BAC', 'BIIB', 'BK', 'BLK', 'BMY', 'C', 'CAT', 'CL', 'KO', 'LLY', 'LMT', 'MO', 'MRK', 'PEP', 'PFE', 'PG', 'PM', 'PYPL', 'QCOM', 'RY.TO', 'SHOP.TO', 'T.TO', 'TD.TO', 'TXN', 'UNH', 'UNP', 'UPS', 'USB']\n"
     ]
    }
   ],
   "source": [
    "def validtickers(df):\n",
    "    ticker_lst = []\n",
    "    ##start and end dates to check if the ticker is avaliable in those times\n",
    "    start_date = '2023-01-01'\n",
    "    end_date = '2023-10-01'\n",
    "    ##in case there's no title and the column title is a ticker (so in the ticker_example.csv, the title was AAPL, which is a ticker)\n",
    "    try:\n",
    "        ticker = df.columns[0]\n",
    "        stock = yf.Ticker(ticker)\n",
    "        ##get historical data from it\n",
    "        history = stock.history(start=start_date, end=end_date)\n",
    "        ##if it is a valid ticker, this would run and if it hits the requirements, it appends the ticker to the tickerlist\n",
    "        if ((stock.fast_info['currency'] == \"CAD\" or stock.fast_info['currency'] == \"USD\") and (get_average__monthly_volume(history['Volume']) > 150000)): # added my function here\n",
    "          ticker_lst.append(df.columns[0])\n",
    "          x = 0\n",
    "        else:\n",
    "          ##otherwise, it's not a ticker that hits the requirements,\n",
    "          print('not a valid stock')\n",
    "          x = 0\n",
    "    except:\n",
    "      ##if the code outputs an error, the ticker isn't valid, so outputs not a ticker\n",
    "        print('not a ticker')\n",
    "        x = 0\n",
    "    while x < len(df):\n",
    "      ##for the rest of the column, exactly the same process as above, try getting an output from the ticker, and if it doesn't work, go next\n",
    "        try:\n",
    "            ticker = df.iloc[x,0]\n",
    "            stock = yf.Ticker(ticker)\n",
    "            history = stock.history(start=start_date, end=end_date)\n",
    "            if ((stock.fast_info['currency'] == 'CAD' or stock.fast_info['currency'] == 'USD') and (get_average__monthly_volume(history['Volume']) > 150000)):\n",
    "             ticker_lst.append(df.iloc[x,0])\n",
    "             x += 1\n",
    "            else:\n",
    "              print('not a valid stock')\n",
    "              x += 1\n",
    "        except:\n",
    "            print('not a ticker')\n",
    "            x += 1\n",
    "\n",
    "    return ticker_lst\n",
    "    ##return random.sample(ticker_lst, random.randint(10,22))\n",
    "\n",
    "tickerlist = validtickers(pd.read_csv('Tickers.csv'))\n",
    "print(tickerlist)"
   ]
  },
  {
   "cell_type": "code",
   "execution_count": 35,
   "metadata": {},
   "outputs": [],
   "source": [
    "stock_currency = pd.DataFrame({'Ticker':[],\n",
    "                         'Currency':[]})\n",
    "for i in tickerlist:\n",
    "  tempdf = pd.DataFrame(columns=['Ticker','Currency'])\n",
    "  temp = yf.Ticker(i)\n",
    "  tempdf['Ticker'] = [i]\n",
    "  ##Code for industry if avaliable\n",
    "  tempdf['Currency'] = [temp.fast_info['currency']]\n",
    "  stock_currency = pd.concat([stock_currency, tempdf],ignore_index=True)\n"
   ]
  },
  {
   "cell_type": "code",
   "execution_count": 36,
   "metadata": {},
   "outputs": [],
   "source": [
    "pctchangelist = pd.DataFrame()\n",
    "stockprice = pd.DataFrame()\n",
    "\n",
    "# Define the date range\n",
    "start_date = '2023-01-01'\n",
    "end_date = '2023-10-01'\n",
    "\n",
    "# Loop through each ticker\n",
    "for ticker_symbol in tickerlist:\n",
    "    # Retrieve the historical data for the ticker\n",
    "    ticker = yf.Ticker(ticker_symbol)\n",
    "\n",
    "    #Make a list with the stock values\n",
    "    stockprice[ticker_symbol] = ticker.history(start=start_date, end=end_date).Close\n",
    "\n",
    "    # Extract and calculate the percentage change of closing prices\n",
    "    pct_change = ticker.history(start=start_date, end=end_date).Close.pct_change()\n",
    "\n",
    "    # Add the percentage change data to the DataFrame\n",
    "    pctchangelist[ticker_symbol] = pct_change\n",
    "\n",
    "# Drop the first row (index 0) since it contains NaN values due to percentage change calculation\n",
    "pctchangelist = pctchangelist.dropna()\n",
    "pctchangelist2 = pctchangelist\n",
    "\n",
    "# Localize timezone to only display date\n",
    "pctchangelist.index = pctchangelist.index.tz_localize(None)\n",
    "stockprice.index = stockprice.index.tz_localize(None)\n"
   ]
  },
  {
   "cell_type": "code",
   "execution_count": 37,
   "metadata": {},
   "outputs": [],
   "source": [
    "# optional that we can add to reduce the number of tickers by removing the most volatile stocks\n",
    "# might cause problems if there are only like 45 stocks and the remaining ones are from similar industries -> hence the lower volatility\n",
    "# given that it's being run for only like two weeks, doubt it matters too much\n",
    "if len(tickerlist) > 44:\n",
    "  # create a list of averages, append the average of the absolute value to get the variation from zero\n",
    "  # since its percent change, higher average percent change means high volatility\n",
    "    avelist = []\n",
    "    for i in tickerlist:\n",
    "        avelist.append(pctchangelist[i].abs().mean())\n",
    "\n",
    "    avelist = pd.Series(avelist)\n",
    "    # get the median, cut the number of stocks in half\n",
    "    avemid = stdlist.median()\n",
    "    i = 0\n",
    "    while i < len(stdlist):\n",
    "      # remove them from the percent change list if the stock average is above the overall average\n",
    "        if avelist[i] > avemid:\n",
    "            print(avelist[i])\n",
    "            pctchangelist = pctchangelist.drop(columns = [tickerlist[i]])\n",
    "            i += 1\n",
    "        else:\n",
    "            i += 1"
   ]
  },
  {
   "cell_type": "markdown",
   "metadata": {},
   "source": [
    "For our portfolio, after cleaning up the data for valid tickers only, we search for stocks with low correlations, and pick the lowest pair. We build on that pair, by finding stocks that go with that pair to continue to have a low correlation. If we can't find a good stock to add to the pair, we add what we currently have, and go back to step 1 with a new pair.\n",
    "After this, if we still have stocks to pick from after picking our pairs + addons we see if any stocks have a super high correlation with anything already in our portfolio and split the weights amongst the two stocks, to further diversify.\n",
    "Doing this allows us to get a group of stocks that has as low of a correlation with each other as possible. Low correlation between the group of stocks allows for the best diversification as it means that any movement in one of the stocks is not very likely to cause a similar movement in another stock. Diversification makes our investment more safe because we are less likely to have more than half the stocks move in the same direction. \n",
    "Additionally, one of the things that could help increase diversification is to invest in stocks in different industries but through our process, finding stocks that are not very correlated is something that already cover the key of diversification.\n",
    "also add this to the explaination of our correlation"
   ]
  },
  {
   "cell_type": "code",
   "execution_count": 38,
   "metadata": {},
   "outputs": [
    {
     "name": "stdout",
     "output_type": "stream",
     "text": [
      "[['SHOP.TO', 'UNH'], ['C', 'LLY', 'BAC'], ['ABBV', 'AMZN'], ['ACN', 'MRK'], ['AXP', 'CL'], ['BMY', 'QCOM']]\n",
      "['SHOP.TO', 'UNH', 'C', 'LLY', 'BAC', 'ABBV', 'AMZN', 'ACN', 'MRK', 'AXP', 'CL', 'BMY', 'QCOM']\n"
     ]
    }
   ],
   "source": [
    "tempchangelist = pctchangelist\n",
    "# get all negative correlations\n",
    "# to be a safe portfolio, we want stocks that cancel each other out, so any big change in one stock is slightly negated by the other stock\n",
    "# thus, we want the lowest correlation values, at least below zero\n",
    "# this guarantees at least two stocks, even if all correlation values are positive\n",
    "corrvalues = tempchangelist .corr()\n",
    "# get the minimum of the correlation values\n",
    "minvalues = corrvalues.min()\n",
    "# correlation dataframe is sorted in a way such that the smallest value occurs twice, once in both stocks\n",
    "stocks = np.where(minvalues == minvalues.min())[0]\n",
    "# get the index and find the stock associated with the index - there would be two\n",
    "firststock = tickerlist[stocks[0]]\n",
    "secondstock = tickerlist[stocks[1]]\n",
    "# create a portfolio pct change and remove the two stocks from the percent change dataframe\n",
    "# then we can compare them percent change dataframe again to get new correlation values\n",
    "stockprice['Portfolio'] = stockprice[firststock] + stockprice[secondstock]\n",
    "tempchangelist['Portfolio'] = stockprice['Portfolio'].ffill().pct_change().dropna()\n",
    "tempchangelist = tempchangelist.drop(columns=[firststock, secondstock])\n",
    "# create a list with the stocks and a list with the correlation values\n",
    "# since correlation can't be above 1, set the starting index to 2\n",
    "stocklist = [[firststock, secondstock]]\n",
    "\n",
    "i = 2\n",
    "while i < 22:\n",
    "  # loop at max 22 times for 22 stocks\n",
    "  # create a temporary list for the correlation values and get the minimum for the last column (portfolio column)\n",
    "    temp = tempchangelist.corr()\n",
    "    mintemp = temp.iloc[:, -1].min()\n",
    "    # if the minimum is bigger than 0, then there is a positive correlation, no matter how slight, so we woul rather not include it\n",
    "    if mintemp > 0:\n",
    "      # then get the minimum value in the list, which should be lower than if the correlation is positive\n",
    "        minvalues = temp.min()\n",
    "        # if it is still positive, then there is only positive correlations between the stocks left, so break and we fill the rest of the\n",
    "        # stocks in the following block of code - this guarantees the minimum isn't between the portfolio and one of the stocks\n",
    "        if minvalues.min() > 0:\n",
    "            break\n",
    "        else:\n",
    "          # if the minimum isn't above zero, we find which stocks are associated with the low correlation, and add them to the list\n",
    "          # same process as above\n",
    "            stocks = np.where(minvalues == minvalues.min())[0]\n",
    "            firststock = tempchangelist.columns[stocks[0]]\n",
    "            secondstock = tempchangelist.columns[stocks[1]]\n",
    "            stockprice['Portfolio'] = stockprice[firststock] + stockprice[secondstock]\n",
    "            tempchangelist['Portfolio'] = stockprice['Portfolio'].ffill().pct_change().dropna()\n",
    "            tempchangelist = tempchangelist.drop(columns=[firststock, secondstock])\n",
    "            stocklist = stocklist + [[firststock, secondstock]]\n",
    "            # add two because adding two new stocks\n",
    "            i += 2\n",
    "    else:\n",
    "      # else, there is a negative correlation between the portfolio and one of the stocks, in which case\n",
    "      # find the index associated with the number and add it to the portfolio and the stock/correlation list, and remove it from\n",
    "      # the pctchange list\n",
    "        minvalues = mintemp\n",
    "        stock = temp.iloc[:, -1].idxmin()\n",
    "        stockprice['Portfolio'] = stockprice['Portfolio'] + stockprice[stock]\n",
    "        tempchangelist['Portfolio'] = stockprice['Portfolio'].ffill().pct_change().dropna()\n",
    "        tempchangelist = tempchangelist.drop(columns=[stock])\n",
    "        stocklist[len(stocklist)-1].append(stock)\n",
    "        i += 1\n",
    "\n",
    "print(stocklist)\n",
    "\n",
    "# flatten the stocklist, as to find the number of stocks theyre are\n",
    "def flatten(A):\n",
    "    lst = []\n",
    "    for i in A:\n",
    "        if isinstance(i,list): lst.extend(flatten(i))\n",
    "        else: lst.append(i)\n",
    "    return lst\n",
    "\n",
    "flatstocklist = flatten(stocklist)\n",
    "print(flatstocklist)"
   ]
  },
  {
   "cell_type": "code",
   "execution_count": 39,
   "metadata": {},
   "outputs": [
    {
     "name": "stdout",
     "output_type": "stream",
     "text": [
      "[['SHOP.TO', 'UNH'], [['C', 'BLK', 'C'], 'LLY', ['BAC', 'TD.TO', 'BAC']], ['ABBV', 'AMZN'], [['ACN', 'TXN', 'ACN'], 'MRK'], [['AXP', 'BK', 'AXP'], ['CL', 'KO', 'CL']], [['BMY', 'PFE'], ['QCOM', 'BLK']]]\n"
     ]
    }
   ],
   "source": [
    "# make new correlation dataframe with the new percent change list\n",
    "corrvalues2 = pctchangelist2.corr()\n",
    "# remove all items in the stocklist from the rows and all items not in the stocklist from the columns\n",
    "# this guarantees 22 different stocks, which is safer for our portfolio, and will be weighted according to the correlation\n",
    "corrvalues2 = corrvalues2.drop(columns = [x for x in flatstocklist])\n",
    "corrvalues2 = corrvalues2.drop(columns = ['Portfolio'])\n",
    "corrvalues2 = corrvalues2.drop([x for x in tickerlist if x not in flatstocklist])\n",
    "\n",
    "# get the remining stocks by finding the highest (22 - however many current stocks) number of correlation values\n",
    "maxcorr = pd.DataFrame(corrvalues2.stack().sort_values(ascending = False).iloc[:24])\n",
    "maxcorr = maxcorr.tail(22-len(stocklist))\n",
    "\n",
    "# we love recursion\n",
    "# go through the entire list and find where the index equals the stock associated with the correlation values\n",
    "# outputs in a way such that if there's correlation, list becomes nested - eg.\n",
    "# [['SHOP.TO', 'UNH'], [['C', 'BLK', 'C'], 'LLY', ['BAC', 'TD.TO', 'BAC']], ['ABBV', 'AMZN'], [['ACN', 'TXN', 'ACN'], 'MRK'],\n",
    "# [['AXP', 'BK', 'AXP'], ['CL', 'KO', 'CL']], [['BMY', 'PFE'], ['QCOM', 'BLK']]]\n",
    "\n",
    "# go through the list of correlations\n",
    "i = 0\n",
    "while i < len(maxcorr):\n",
    "  # go through the list of stocks to find the appropriate one\n",
    "    j = 0\n",
    "    while j < len(stocklist):\n",
    "      # since each is a nested list, go through each of the nested lists\n",
    "        k = 0\n",
    "        while k < len(stocklist[j]):\n",
    "          # if the first is already a stock, we want it shared amongst at most three, so we check for that\n",
    "            if isinstance(stocklist[j][k], list):\n",
    "                if maxcorr.index[i][0] == stocklist[j][k][0]:\n",
    "                    if len(stocklist[j][k]) < 3:\n",
    "                      # if it's less than three, append the stock, else break\n",
    "                        stocklist[j][k].append(maxcorr.index[i][0])\n",
    "                        break\n",
    "                    else:\n",
    "                        break\n",
    "                else:\n",
    "                  # if it's not the first item, keep checking the nested list\n",
    "                    k += 1\n",
    "            elif (maxcorr.index[i][0] == stocklist[j][k]):\n",
    "              # if it's not a list, check it's index, then if it matches, create a list and break\n",
    "                stocklist[j][k] = [maxcorr.index[i][0], maxcorr.index[i][1]]\n",
    "                break\n",
    "                # otherwise, check the next one\n",
    "            else: k += 1\n",
    "        j += 1\n",
    "    i += 1\n",
    "\n",
    "\n",
    "print(stocklist)"
   ]
  },
  {
   "cell_type": "code",
   "execution_count": 40,
   "metadata": {},
   "outputs": [
    {
     "name": "stdout",
     "output_type": "stream",
     "text": [
      "[['ACN', 'TXN', 'ACN', 'MRK', 'ABBV', 'AMZN', 'AXP', 'BK', 'AXP', 'CL', 'KO', 'CL', 'BMY', 'PFE', 'QCOM', 'BLK', 'C', 'BLK', 'C', 'LLY', 'BAC', 'TD.TO', 'BAC', 'SHOP.TO', 'UNH'], [0.05027777777777794, 0.02694444444444444, 0.02694444444444444, 0.08083333333333333, 0.08583333333333333, 0.08083333333333333, 0.028611111111111108, 0.02694444444444444, 0.02694444444444444, 0.02694444444444444, 0.02694444444444444, 0.02694444444444444, 0.04041666666666666, 0.04041666666666666, 0.04041666666666666, 0.04041666666666666, 0.017962962962962962, 0.017962962962962962, 0.017962962962962962, 0.05388888888888888, 0.017962962962962962, 0.017962962962962962, 0.017962962962962962, 0.08083333333333333, 0.08083333333333333]]\n"
     ]
    }
   ],
   "source": [
    "# averageBeta returns the average beta of list of stocks, or the beta of a single stock\n",
    "def averageBeta (element):\n",
    "    # element ((listof Str) or Str): Either a list of stocks to be recursively called on, or a stock,\n",
    "    #                                represented by its ticker as a string\n",
    "    if type(element) is list:\n",
    "        count = 0\n",
    "        for i in range (len(element)):\n",
    "            count += averageBeta(element[i])\n",
    "        return count/(len(element))\n",
    "    return yf.Ticker(element).info['beta']\n",
    "\n",
    "# splitPercentages divides the % of the portfolio evenly amongst all stocks in tickers, and adds a bonus\n",
    "#                  percent if the ticker is\n",
    "def splitPercentages (tickers, total, added):\n",
    "    # element ((listof Str) or Str): Either a list of stocks to be recursively called on, or a stock,\n",
    "    #                                represented by its ticker as a string\n",
    "    # total (0 <= Num <= 1): The percentage to be divided amongst the stocks\n",
    "    allTickers = []\n",
    "    allWeights = []\n",
    "    for i in range (len(tickers)):\n",
    "        if type(tickers[i]) is list:\n",
    "            if i > (len(tickers)/2 - 1):\n",
    "                added = 0\n",
    "            nested = splitPercentages(tickers[i], total/len(tickers), added/len(tickers[i]))\n",
    "            allTickers = allTickers + nested[0]\n",
    "            allWeights = allWeights + nested[1]\n",
    "            continue\n",
    "        if i > (len(tickers)/2 - 1):\n",
    "            added = 0\n",
    "        allTickers.append(tickers[i])\n",
    "        allWeights.append(total/len(tickers) + added*2)\n",
    "    return [allTickers, allWeights]\n",
    "\n",
    "# assignWeights returns a list of length 2. The first element in the list is a list of stocks, and the second\n",
    "#               element is a list, where the element at index i is the weight of the stock at index i in the\n",
    "#               first list\n",
    "def assignWeights (tickers):\n",
    "    # tickers (listof (Str or (listof Str))):\n",
    "\n",
    "    temp = tickers\n",
    "    # sorting the groups by their beta, or their average beta\n",
    "    temp.sort(key=averageBeta)\n",
    "\n",
    "    # we remove a portion from the total percentage to be set aside for biased redistribution later\n",
    "    totalPercentage = 1-(len(temp)*0.005)\n",
    "    returns = splitPercentages(temp, totalPercentage, 0.005)\n",
    "\n",
    "    # this occurs when len(temp) is odd. However, it is a happy accident, as now we can add more weight to the\n",
    "    # stock with the lowest beta\n",
    "    if sum(returns[1]) < 1:\n",
    "        returns[1][0] += 1-sum(returns[1])\n",
    "\n",
    "    return returns\n",
    "\n",
    "stock_weight = assignWeights(stocklist)\n",
    "print(stock_weight)"
   ]
  },
  {
   "cell_type": "markdown",
   "metadata": {},
   "source": [
    "As we learned in class, the beta of a stock is its correlation value with the market. A stock with a beta of 1 is correlated perflectly with the market, while anything above that is more volatile compared to the market, and anything below is less volatile compared to the market. This means that a portfolio with a low average beta, is less correlated to the whims of the market. Thus, to hedge our risk against market risk, we add more weight to the stocks in our portfolio with a lower beta.\n",
    "\n",
    "Though, we realized that this might alter the relations that we had already established when we had picked the stocks. What if we gave more weight to a stock that was supposed to balance out another? Then the portfolio would be even riskier, especially considering that we are only trading for 5 days. Therefore, we still incorporated beta into our final portfolio weightings, but made it significantly less impactful."
   ]
  },
  {
   "cell_type": "code",
   "execution_count": 41,
   "metadata": {},
   "outputs": [
    {
     "name": "stdout",
     "output_type": "stream",
     "text": [
      "['ACN', 'TXN', 'MRK', 'ABBV', 'AMZN', 'AXP', 'BK', 'CL', 'KO', 'BMY', 'PFE', 'QCOM', 'BLK', 'C', 'LLY', 'BAC', 'TD.TO', 'SHOP.TO', 'UNH']\n",
      "[0.07722222222222239, 0.02694444444444444, 0.08083333333333333, 0.08583333333333333, 0.08083333333333333, 0.05555555555555555, 0.02694444444444444, 0.05388888888888888, 0.02694444444444444, 0.04041666666666666, 0.04041666666666666, 0.04041666666666666, 0.05837962962962963, 0.035925925925925924, 0.05388888888888888, 0.035925925925925924, 0.017962962962962962, 0.08083333333333333, 0.08083333333333333]\n",
      "100.0\n"
     ]
    }
   ],
   "source": [
    "finalstocklist = []\n",
    "finalweightlist = []\n",
    "l = 0 \n",
    "\n",
    "while l < len(stock_weight[0]):\n",
    "    temp = stock_weight[1][l]\n",
    "    \n",
    "    m = l + 1\n",
    "    while m < len(stock_weight[0]):\n",
    "        if stock_weight[0][l] == stock_weight[0][m]:\n",
    "            stock_weight[0].pop(m)\n",
    "            temp += stock_weight[1][m]\n",
    "            stock_weight[1].pop(m)\n",
    "        m += 1\n",
    "    \n",
    "    finalstocklist.append(stock_weight[0][l])\n",
    "    finalweightlist.append(temp)\n",
    "    l += 1\n",
    "    \n",
    "print(finalstocklist)\n",
    "print(finalweightlist)\n",
    "print(sum(finalweightlist)*100)"
   ]
  },
  {
   "cell_type": "code",
   "execution_count": 47,
   "metadata": {},
   "outputs": [
    {
     "name": "stdout",
     "output_type": "stream",
     "text": [
      "     Ticker       Price Currency      Shares         Value    Weight\n",
      "1       ACN  292.679993      USD  143.985496  57909.403917  7.722222\n",
      "2       TXN  140.502075      USD  104.654036  20205.799208  2.694444\n",
      "3       MRK  103.629997      USD  425.671417  60617.397625  8.083333\n",
      "4      ABBV  145.259995      USD  322.462668  64366.927375  8.583333\n",
      "5      AMZN  121.389999      USD  363.393426  60617.397625  8.083333\n",
      "6       AXP  143.520004      USD  211.244078  41661.441667  5.555556\n",
      "7        BK   41.429996      USD  354.914567  20205.799208  2.694444\n",
      "8        CL   73.410004      USD  400.602330  40411.598417  5.388889\n",
      "9        KO   56.119999      USD  262.011930  20205.799208  2.694444\n",
      "10      BMY   56.610001      USD  389.616033  30308.698812  4.041667\n",
      "11      PFE   30.321198      USD  727.417308  30308.698812  4.041667\n",
      "12     QCOM  104.779999      USD  210.499753  30308.698812  4.041667\n",
      "13      BLK  608.679993      USD   52.340974  43779.231618  5.837963\n",
      "14        C   38.115120      USD  514.375372  26941.065611  3.592593\n",
      "15      LLY  585.378418      USD   50.237962  40411.598417  5.388889\n",
      "16      BAC   25.549999      USD  767.337753  26941.065611  3.592593\n",
      "17    TD.TO   76.919998      CAD  175.123936  13470.532806  1.796296\n",
      "18  SHOP.TO   66.900002      CAD  906.089630  60617.397625  8.083333\n",
      "19      UNH  530.210022      USD   83.197838  60617.397625  8.083333\n",
      "749906.0\n",
      "100.0\n"
     ]
    }
   ],
   "source": [
    "# define function to get the price of a ticker\n",
    "def price(ticker):\n",
    "    # set start and end date\n",
    "    start_date = '2023-10-25'\n",
    "    end_date = '2023-10-26'\n",
    "    stock = yf.Ticker(ticker)\n",
    "    # get the ticker history\n",
    "    stock_hist = stock.history(start=start_date, end=end_date)\n",
    "    # return the first cell of the data\n",
    "    return stock_hist.Close.iloc[0]\n",
    "# create a function to get the currency exchange rate from that currency to CAD\n",
    "def usd_exchange():\n",
    "    exchange_ticker = yf.Ticker('CADUSD=x')\n",
    "    # get data history\n",
    "    start_date = '2023-10-25'\n",
    "    end_date = '2023-10-26'\n",
    "    exchange_hist = exchange_ticker.history(start=start_date, end=end_date)\n",
    "    # make a dataframe from the closing exchange rate\n",
    "    exchange_rates = pd.DataFrame(1/exchange_hist.Close)\n",
    "    exchange_rates.columns = ['cad']\n",
    "    # return the first cell of the exchange rate\n",
    "    return exchange_rates.iloc[0,0]\n",
    "# get the current usd exchange rate\n",
    "usd_exchange_rate = usd_exchange()\n",
    "# function to get number of shares of a stock given the price and value\n",
    "def get_num_shares(price, value, currency):\n",
    "    # if currency is usd we consider the usd exchange rate\n",
    "    if currency == 'USD':\n",
    "        return value / (price * usd_exchange_rate)\n",
    "    else:\n",
    "        return value / price\n",
    "\n",
    "# function to get the cleaned version of the output\n",
    "def final_data_clean(stocks, weighing):\n",
    "    # set initial total value\n",
    "    total_value = 750000-4.95*len(finalstocklist)\n",
    "    # create a final dataframe with a ticker column\n",
    "    final = pd.DataFrame({\"Ticker\": stocks}, index=range(1, len(stocks) + 1))\n",
    "    # set an initial empty list to hold every initial price, currency, value, and shares for each stock\n",
    "    initial_prices = []\n",
    "    currencies = []\n",
    "    values = []\n",
    "    shares = []\n",
    "    # loop through each stock to get the initial price, currency, value, and shares of every stock\n",
    "    for i in range(len(stocks)):\n",
    "        curr_price = price(stocks[i])\n",
    "        initial_prices.append(curr_price)\n",
    "        curr_currency = stock_currency[stock_currency['Ticker'] == stocks[i]].iloc[0, 1]\n",
    "        currencies.append(curr_currency)\n",
    "        curr_value = total_value * weighing[i]\n",
    "        values.append(curr_value)\n",
    "        shares.append(get_num_shares(curr_price, curr_value, curr_currency))\n",
    "    # create a column for each set of data\n",
    "    final['Price'] = initial_prices\n",
    "    final['Currency'] = currencies\n",
    "    final['Shares'] = shares\n",
    "    final['Value'] = values\n",
    "    final['Weight'] = weighing\n",
    "    final['Weight'] *= 100\n",
    "    # return the final dataframe\n",
    "    return final\n",
    "Portfolio_Final = final_data_clean(finalstocklist, finalweightlist)\n",
    "print(Portfolio_Final)\n",
    "print(Portfolio_Final['Value'].sum().round(0))\n",
    "print(Portfolio_Final['Weight'].sum().round(0))\n",
    "Stocks_Final = Portfolio_Final[['Ticker', 'Shares']]\n",
    "Stocks_Final.to_csv('Stocks_Group_10.csv')"
   ]
  },
  {
   "cell_type": "markdown",
   "metadata": {},
   "source": [
    "## Contribution Declaration\n",
    "\n",
    "The following team members made a meaningful contribution to this assignment:\n",
    "\n",
    "Evan, Harry, Gordon"
   ]
  }
 ],
 "metadata": {
  "kernelspec": {
   "display_name": "CFM101",
   "language": "python",
   "name": "cfm101"
  },
  "language_info": {
   "codemirror_mode": {
    "name": "ipython",
    "version": 3
   },
   "file_extension": ".py",
   "mimetype": "text/x-python",
   "name": "python",
   "nbconvert_exporter": "python",
   "pygments_lexer": "ipython3",
   "version": "3.11.5"
  }
 },
 "nbformat": 4,
 "nbformat_minor": 2
}
